{
 "cells": [
  {
   "cell_type": "code",
   "execution_count": 1,
   "metadata": {},
   "outputs": [
    {
     "name": "stdout",
     "output_type": "stream",
     "text": [
      "                  variable_name     value       year  rank\n",
      "0                          Base  0.520790  2019-2020     1\n",
      "1                    TV1 Spends  0.349743  2019-2020     2\n",
      "2         Google Youtube Spends  0.027786  2019-2020     3\n",
      "3    Branded Paid Search Spends  0.016163  2019-2020     4\n",
      "4                    OOH Spends  0.008028  2019-2020     5\n",
      "..                          ...       ...        ...   ...\n",
      "61                  Meta Spends  0.007483  2019-2024     7\n",
      "62                Tiktok Spends  0.005765  2019-2024     8\n",
      "63                   OOH Spends  0.001272  2019-2024     9\n",
      "64  Competitor2 Ad Spend Impact -0.005183  2019-2024    10\n",
      "65  Competitor1 Ad Spend Impact -0.094734  2019-2024    11\n",
      "\n",
      "[66 rows x 4 columns]\n"
     ]
    }
   ],
   "source": [
    "import pandas as pd\n",
    "df = pd.read_csv('Contributions_Masked Data.csv')\n",
    "print(df)"
   ]
  },
  {
   "cell_type": "code",
   "execution_count": 3,
   "metadata": {},
   "outputs": [
    {
     "name": "stdout",
     "output_type": "stream",
     "text": [
      "                  variable_name         value       year  rank\n",
      "0                          Base  5.207897e-01  2019-2020     1\n",
      "1                    TV1 Spends  3.497429e-01  2019-2020     2\n",
      "2         Google Youtube Spends  2.778571e-02  2019-2020     3\n",
      "3    Branded Paid Search Spends  1.616323e-02  2019-2020     4\n",
      "4                    OOH Spends  8.028357e-03  2019-2020     5\n",
      "5                   Meta Spends  0.000000e+00  2019-2020     6\n",
      "6             Twitter Ad Spends  0.000000e+00  2019-2020     7\n",
      "7                 Tiktok Spends  0.000000e+00  2019-2020     8\n",
      "8                    TV2 Spends  0.000000e+00  2019-2020     9\n",
      "9   Competitor2 Ad Spend Impact -5.196479e-03  2019-2020    11\n",
      "10  Competitor1 Ad Spend Impact -2.293630e-03  2019-2020    10\n",
      "11                         Base  4.854547e-01  2020-2021     1\n",
      "12                   TV1 Spends  1.751734e-01  2020-2021     2\n",
      "13        Google Youtube Spends  6.638543e-02  2020-2021     3\n",
      "14                   OOH Spends  3.273420e-03  2020-2021     5\n",
      "15                  Meta Spends  4.335476e-03  2020-2021     4\n",
      "16   Branded Paid Search Spends  2.036200e-04  2020-2021     6\n",
      "17            Twitter Ad Spends  0.000000e+00  2020-2021     7\n",
      "18                Tiktok Spends  0.000000e+00  2020-2021     8\n",
      "19                   TV2 Spends  0.000000e+00  2020-2021     9\n",
      "20  Competitor2 Ad Spend Impact -4.589663e-03  2020-2021    10\n",
      "21  Competitor1 Ad Spend Impact -2.255843e-01  2020-2021    11\n",
      "22                         Base  5.171939e-01  2021-2022     1\n",
      "23                   TV1 Spends  8.915566e-02  2021-2022     2\n",
      "24        Google Youtube Spends  3.866478e-02  2021-2022     3\n",
      "25            Twitter Ad Spends  2.646441e-02  2021-2022     4\n",
      "26   Branded Paid Search Spends  2.107748e-02  2021-2022     5\n",
      "27                  Meta Spends  4.411261e-03  2021-2022     6\n",
      "28                   OOH Spends  2.996993e-03  2021-2022     7\n",
      "29                Tiktok Spends  0.000000e+00  2021-2022     8\n",
      "30  Competitor2 Ad Spend Impact  0.000000e+00  2021-2022     9\n",
      "31                   TV2 Spends  0.000000e+00  2021-2022    10\n",
      "32  Competitor1 Ad Spend Impact -2.200355e-01  2021-2022    11\n",
      "33                         Base  6.013492e-01  2022-2023     1\n",
      "34                   TV2 Spends  2.069394e-01  2022-2023     2\n",
      "35            Twitter Ad Spends  1.026649e-01  2022-2023     3\n",
      "36                  Meta Spends  2.008812e-02  2022-2023     4\n",
      "37        Google Youtube Spends  4.879177e-03  2022-2023     5\n",
      "38   Branded Paid Search Spends  1.257040e-03  2022-2023     6\n",
      "39                   OOH Spends  9.920000e-14  2022-2023     7\n",
      "40                Tiktok Spends  0.000000e+00  2022-2023     8\n",
      "41  Competitor1 Ad Spend Impact  0.000000e+00  2022-2023     9\n",
      "42                   TV1 Spends  0.000000e+00  2022-2023    10\n",
      "43  Competitor2 Ad Spend Impact -1.180513e-02  2022-2023    11\n",
      "44                         Base  6.190562e-01  2023-2024     1\n",
      "45                   TV2 Spends  1.793290e-01  2023-2024     2\n",
      "46   Branded Paid Search Spends  5.421638e-02  2023-2024     3\n",
      "47                Tiktok Spends  4.412249e-02  2023-2024     4\n",
      "48        Google Youtube Spends  2.336454e-02  2023-2024     5\n",
      "49            Twitter Ad Spends  9.252703e-03  2023-2024     6\n",
      "50                  Meta Spends  2.831581e-03  2023-2024     7\n",
      "51                   OOH Spends  1.250000e-29  2023-2024     8\n",
      "52  Competitor1 Ad Spend Impact  0.000000e+00  2023-2024     9\n",
      "53                   TV1 Spends  0.000000e+00  2023-2024    10\n",
      "54  Competitor2 Ad Spend Impact -6.378889e-03  2023-2024    11\n",
      "55                         Base  5.300686e-01  2019-2024     1\n",
      "56                   TV1 Spends  1.255673e-01  2019-2024     2\n",
      "57                   TV2 Spends  7.143449e-02  2019-2024     3\n",
      "58        Google Youtube Spends  3.465042e-02  2019-2024     4\n",
      "59            Twitter Ad Spends  2.639626e-02  2019-2024     5\n",
      "60   Branded Paid Search Spends  1.244619e-02  2019-2024     6\n",
      "61                  Meta Spends  7.483218e-03  2019-2024     7\n",
      "62                Tiktok Spends  5.764648e-03  2019-2024     8\n",
      "63                   OOH Spends  1.272178e-03  2019-2024     9\n",
      "64  Competitor2 Ad Spend Impact -5.182633e-03  2019-2024    10\n",
      "65  Competitor1 Ad Spend Impact -9.473408e-02  2019-2024    11\n"
     ]
    }
   ],
   "source": [
    "with pd.option_context('display.max_rows', None, 'display.max_columns', None):  # more options can be specified also \n",
    "\tprint(df) "
   ]
  },
  {
   "cell_type": "code",
   "execution_count": 2,
   "metadata": {},
   "outputs": [
    {
     "data": {
      "text/plain": [
       "0     2019-2020\n",
       "1     2019-2020\n",
       "2     2019-2020\n",
       "3     2019-2020\n",
       "4     2019-2020\n",
       "        ...    \n",
       "61    2019-2024\n",
       "62    2019-2024\n",
       "63    2019-2024\n",
       "64    2019-2024\n",
       "65    2019-2024\n",
       "Name: year, Length: 66, dtype: object"
      ]
     },
     "execution_count": 2,
     "metadata": {},
     "output_type": "execute_result"
    }
   ],
   "source": [
    "df['year' = '2019-2020']"
   ]
  }
 ],
 "metadata": {
  "kernelspec": {
   "display_name": ".venv",
   "language": "python",
   "name": "python3"
  },
  "language_info": {
   "codemirror_mode": {
    "name": "ipython",
    "version": 3
   },
   "file_extension": ".py",
   "mimetype": "text/x-python",
   "name": "python",
   "nbconvert_exporter": "python",
   "pygments_lexer": "ipython3",
   "version": "3.12.4"
  }
 },
 "nbformat": 4,
 "nbformat_minor": 2
}
